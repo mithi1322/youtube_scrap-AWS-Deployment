{
 "cells": [
  {
   "cell_type": "markdown",
   "id": "b3dfcc13-df09-4aac-a449-db323383a9d2",
   "metadata": {},
   "source": [
    "Go to this given URL and solve the following questions\n",
    "\n",
    "URL: https://www.youtube.com/@PW-Foundation/videos\n",
    "\n",
    "Note: Save all the data scraped in the above questions in a CSV file."
   ]
  },
  {
   "cell_type": "code",
   "execution_count": 10,
   "id": "51788971-1e6e-48f7-a981-89f230f9b56e",
   "metadata": {},
   "outputs": [],
   "source": [
    "import requests\n",
    "from urllib.request import urlopen\n",
    "import logging\n",
    "import re"
   ]
  },
  {
   "cell_type": "markdown",
   "id": "2918d291-7838-45ca-ae75-a7e17adf6444",
   "metadata": {},
   "source": [
    "Q1. Write a python program to extract the video URL of the first five videos."
   ]
  },
  {
   "cell_type": "code",
   "execution_count": 11,
   "id": "48493046-e3c3-44b6-bcb2-3566da7b39b5",
   "metadata": {},
   "outputs": [
    {
     "name": "stdout",
     "output_type": "stream",
     "text": [
      "https://www.youtube.com/watch?v=dVq8dLd5zK4\n",
      "https://www.youtube.com/watch?v=9y6ruBLE7z0\n",
      "https://www.youtube.com/watch?v=yv4Gi792S8o\n",
      "https://www.youtube.com/watch?v=aPrSAvwuhTk\n",
      "https://www.youtube.com/watch?v=tigMKfSBJ9E\n"
     ]
    }
   ],
   "source": [
    "url=\"https://www.youtube.com/@PW-Foundation/videos\"\n",
    "pw_channal =requests.get(url)\n",
    "pw_ch_page=pw_channal.text\n",
    "videoids = re.findall('\"videoRenderer\":{\"videoId\":\".*?\"', pw_ch_page)\n",
    "for i in range(5):\n",
    "    print(\"https://www.youtube.com/watch?v=\"+videoids[i].split('\"')[-2])"
   ]
  },
  {
   "cell_type": "markdown",
   "id": "0db73951-bdb7-45dd-a05d-de4c99b0e9a0",
   "metadata": {},
   "source": [
    "Q2. Write a python program to extract the URL of the video thumbnails of the first five videos."
   ]
  },
  {
   "cell_type": "code",
   "execution_count": 12,
   "id": "9a08b9fe-f482-4dd7-ba4d-181ad9c191bd",
   "metadata": {},
   "outputs": [
    {
     "name": "stdout",
     "output_type": "stream",
     "text": [
      "https://i.ytimg.com/vi/dVq8dLd5zK4/hqdefault.jpg?sqp=-oaymwEiCKgBEF5IWvKriqkDFQgBFQAAAAAYASUAAMhCPQCAokN4AQ==\\u0026rs=AOn4CLBKRwrYmJx3q-z08krLE6XOMFaMsA\n",
      "https://i.ytimg.com/vi/9y6ruBLE7z0/hqdefault.jpg?sqp=-oaymwEiCKgBEF5IWvKriqkDFQgBFQAAAAAYASUAAMhCPQCAokN4AQ==\\u0026rs=AOn4CLDjoC3qRJHjoPv-6TD94TjZfnOyoA\n",
      "https://i.ytimg.com/vi/yv4Gi792S8o/hqdefault.jpg?sqp=-oaymwEiCKgBEF5IWvKriqkDFQgBFQAAAAAYASUAAMhCPQCAokN4AQ==\\u0026rs=AOn4CLC4oYB4bXUjP4epxGEB7b0cxR9TZw\n",
      "https://i.ytimg.com/vi/aPrSAvwuhTk/hqdefault.jpg?sqp=-oaymwEiCKgBEF5IWvKriqkDFQgBFQAAAAAYASUAAMhCPQCAokN4AQ==\\u0026rs=AOn4CLCGvOzJ1fiNxMLQuHLV765VQ7lFsA\n",
      "https://i.ytimg.com/vi/tigMKfSBJ9E/hqdefault.jpg?sqp=-oaymwEiCKgBEF5IWvKriqkDFQgBFQAAAAAYASUAAMhCPQCAokN4AQ==\\u0026rs=AOn4CLCmvu3d3a095v77i3W8PkYx7QGAvw\n"
     ]
    }
   ],
   "source": [
    "thumbnails = re.findall('\"thumbnail\":{\"thumbnails\":\\[{\"url\":\".*?\"', pw_ch_page)\n",
    "for i in range(5):\n",
    "    print(thumbnails[i].split('\"')[-2])"
   ]
  },
  {
   "cell_type": "markdown",
   "id": "9058a437-ef3d-4cde-9924-cce5f75d724c",
   "metadata": {},
   "source": [
    "Q3. Write a python program to extract the title of the first five videos."
   ]
  },
  {
   "cell_type": "code",
   "execution_count": 13,
   "id": "01d9db8b-cd20-4519-8115-655d84f9b184",
   "metadata": {},
   "outputs": [
    {
     "name": "stdout",
     "output_type": "stream",
     "text": [
      "Strategy to Crack NEET in 1st Attempt 💪💪\n",
      "How to start class 9th Maths ❓🤔 | Maths Strategy\n",
      "Ritik Sir ने Class 10th की First Class में ही, बच्चों को कड़वा सच बता दिया 🔴😱 | UDAAN 2024\n",
      "How to change Mindset from class 10th to 11th ❓ ❓\n",
      "Bachoo आपके क्या Plan है इस Summer Vacation ❓❓\n"
     ]
    }
   ],
   "source": [
    "titles = re.findall('\"title\":{\"runs\":\\[{\"text\":\".*?\"', pw_ch_page)\n",
    "for i in range(5):\n",
    "    print(titles[i].split('\"')[-2])"
   ]
  },
  {
   "cell_type": "markdown",
   "id": "36087a9f-f4ab-4a23-a08b-12b3d488f0a6",
   "metadata": {},
   "source": [
    "Q4. Write a python program to extract the number of views of the first five videos"
   ]
  },
  {
   "cell_type": "code",
   "execution_count": 14,
   "id": "7d5ce6a9-2212-4ac7-a430-37f8d7e6b9d7",
   "metadata": {},
   "outputs": [
    {
     "name": "stdout",
     "output_type": "stream",
     "text": [
      "48K views\n",
      "13K views\n",
      "58K views\n",
      "31K views\n",
      "36K views\n"
     ]
    }
   ],
   "source": [
    "views = re.findall('\"shortViewCountText\":{\"accessibility\":{\"accessibilityData\":{\"label\":\".*?\"', pw_ch_page)\n",
    "for i in range(5):\n",
    "    print(views[i].split('\"')[-2])"
   ]
  },
  {
   "cell_type": "markdown",
   "id": "b0b52aa1-5fcf-4f3a-9360-93af52b2a41f",
   "metadata": {},
   "source": [
    "Q5. Write a python program to extract the time of posting of video for the first five videos."
   ]
  },
  {
   "cell_type": "code",
   "execution_count": 15,
   "id": "89838693-2028-461c-a729-653cd4771366",
   "metadata": {},
   "outputs": [
    {
     "name": "stdout",
     "output_type": "stream",
     "text": [
      "2 days ago\n",
      "2 days ago\n",
      "3 days ago\n",
      "3 days ago\n",
      "4 days ago\n"
     ]
    }
   ],
   "source": [
    "published_time = re.findall('\"publishedTimeText\":{\"simpleText\":\".*?\"', pw_ch_page)\n",
    "for i in range(5):\n",
    "    print(published_time[i].split('\"')[-2])"
   ]
  },
  {
   "cell_type": "code",
   "execution_count": 16,
   "id": "dbc6a54e-eadb-45ec-beab-9db54ff92e9d",
   "metadata": {},
   "outputs": [],
   "source": [
    "aws_url1=\"http://youtubescrappingapp-env.eba-cqic5ny8.ap-south-1.elasticbeanstalk.com/\""
   ]
  },
  {
   "cell_type": "code",
   "execution_count": 22,
   "id": "3f498b82-fca0-4ca0-aad3-a629186f18b1",
   "metadata": {},
   "outputs": [
    {
     "name": "stdout",
     "output_type": "stream",
     "text": [
      "http://youtubescrappingapp-env.eba-cqic5ny8.ap-south-1.elasticbeanstalk.com/\n"
     ]
    }
   ],
   "source": [
    "print(url1)"
   ]
  },
  {
   "cell_type": "code",
   "execution_count": null,
   "id": "4fdc9f33-8e77-40ae-9fe4-c332d388c40e",
   "metadata": {},
   "outputs": [],
   "source": []
  }
 ],
 "metadata": {
  "kernelspec": {
   "display_name": "Python 3 (ipykernel)",
   "language": "python",
   "name": "python3"
  },
  "language_info": {
   "codemirror_mode": {
    "name": "ipython",
    "version": 3
   },
   "file_extension": ".py",
   "mimetype": "text/x-python",
   "name": "python",
   "nbconvert_exporter": "python",
   "pygments_lexer": "ipython3",
   "version": "3.10.8"
  }
 },
 "nbformat": 4,
 "nbformat_minor": 5
}
